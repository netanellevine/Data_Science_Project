{
 "cells": [
  {
   "cell_type": "markdown",
   "metadata": {},
   "source": [
    "# question 1a"
   ]
  },
  {
   "cell_type": "markdown",
   "metadata": {},
   "source": [
    "identical twin is : $\\dfrac{1}{300}$\n",
    "\n",
    "non identical twin is : $\\dfrac{1}{125}$\n",
    "\n",
    "We know that the probabilty for a boy is : $\\dfrac{1}{2}$\n",
    "\n",
    "elvis is a boy and had a boy twin brother. the probability for that is : $\\dfrac{1}{4}$.\n",
    "\n",
    "So the probabilty for a not identical boy twin is:  $\\dfrac{1}{125} \\cdot \\dfrac{1}{4} $\n",
    "\n",
    "\n",
    "Identical twins have to be of the same sex , Therefore a $50\\%$ chance for boy identical twins.\n",
    "\n",
    "So the probabilty for an identical boy twin is:  $\\dfrac{1}{300} \\cdot \\dfrac{1}{2} $\n",
    "\n",
    "Concluding the final equation to  be -\n",
    "the chance to identical twin divided by the chance for an identical twin times  the chance for an unidentical twin\n",
    "\n",
    "Putting are words in to math we get-\n",
    "$\\dfrac{\\dfrac{1}{300}\\cdot \\dfrac{1}{2}}{\\dfrac{1}{300}\\cdot \\dfrac{1}{2} + \\dfrac{1}{125}\\cdot \\dfrac{1}{4}} =\\dfrac{5}{11}$\n",
    "\n",
    "Bringing are final answer for the probabilty of elvis having an identical twin to $\\dfrac{5}{11}$\n"
   ]
  },
  {
   "cell_type": "markdown",
   "metadata": {},
   "source": [
    "# question 1b"
   ]
  },
  {
   "cell_type": "markdown",
   "metadata": {},
   "source": [
    "There is a $\\dfrac{1}{2} $ chance to pick each bowl of cookies.\n",
    "\n",
    "There is a $\\dfrac{3}{4} $ chance of picking a chocolate cookie from the first bowl.\n",
    "\n",
    "There is a $\\dfrac{1}{2} $ chance of picking a chocolate cookie from the second bowl.\n",
    "\n",
    "We know that eric grabbed a chocolate cookie. \n",
    "We want to find the probability of eric picking the chocolate cookie out of the first bowl.\n",
    "\n",
    "The probabilty of picking from the first bowl is:\n",
    "$\\dfrac{\\dfrac{3}{4}\\cdot \\dfrac{1}{2}}{\\dfrac{1}{2}\\cdot \\dfrac{1}{2} + \\dfrac{1}{2}\\cdot \\dfrac{3}{4}} =\\dfrac{3}{5}$\n",
    "\n",
    "Therefore the final answer for the probabilty of eric picking the chocolate cookie out of the first bowl is 0.6"
   ]
  },
  {
   "cell_type": "markdown",
   "metadata": {},
   "source": [
    "# question 2"
   ]
  },
  {
   "cell_type": "markdown",
   "metadata": {},
   "source": [
    "the probability for each bag is $ \\dfrac{1}{2} $\n",
    "\n",
    "\n",
    "the probabilty for a yellow  m&m from bag 1 is :\n",
    "$(0.2)\\cdot(0.2) = 0.04$\n",
    "\n",
    "and the probabilty for a yellow  m&m from bag 2 is :\n",
    "$(0.1)\\cdot(0.14) =0.014 $\n",
    "\n",
    "by bayes probabilty theorem we get:\n",
    "\n",
    "P(A | B) = $\\dfrac{P(A and B)}{ P(B)} = \\dfrac{0.04}{0.2 \\cdot 0.2 + 0.1 \\cdot 0.14} = \\dfrac{0.04}{0.054} =  \\dfrac{20}{27} $\n",
    "\n",
    "\n",
    "\n"
   ]
  },
  {
   "cell_type": "markdown",
   "metadata": {},
   "source": [
    "# question 3a"
   ]
  },
  {
   "cell_type": "markdown",
   "metadata": {},
   "source": [
    "H= sick\n",
    "\n",
    "E= tested positive\n",
    "\n",
    "need to find P(H | E) \n",
    "\n",
    "P(H) = $ \\dfrac{1}{10000}$\n",
    "\n",
    "P(E) = $ \\dfrac{1}{10000} + \\dfrac{9999}{10000} \\cdot \\dfrac{1}{100} $\n",
    "\n",
    "P(E|H) = $1$\n",
    "\n",
    "P(H|E) = $\\frac{P(E|H) \\cdot P(H)}{P(E)} = \\frac{1 \\cdot \\dfrac{1}{10000}}{\\dfrac{1}{10000} + \\dfrac{9999}{10000} \\cdot \\dfrac{1}{100}} = \\dfrac{100}{10099} =0.01009 $\n"
   ]
  },
  {
   "cell_type": "markdown",
   "metadata": {},
   "source": [
    "# question 3b"
   ]
  },
  {
   "cell_type": "markdown",
   "metadata": {},
   "source": [
    "H=sick\n",
    "\n",
    "E=tested positive\n",
    "\n",
    "need to find P(H | E) \n",
    "\n",
    "P(H) = $ \\dfrac{1}{200}$\n",
    "\n",
    "P(E) = $ \\dfrac{1}{200} + \\dfrac{199}{200} \\cdot \\dfrac{1}{100}=0.01495 $\n",
    "\n",
    "P(E|H) = $1$\n",
    "\n",
    "\n",
    "\n",
    "P(H|E) = $\\frac{P(E|H) \\cdot P(H)}{P(E)} = \\frac{1 \\cdot \\dfrac{1}{200}}{0.01495}= 0.3344 \\%  $\n"
   ]
  },
  {
   "cell_type": "markdown",
   "metadata": {},
   "source": [
    "# Random Variables "
   ]
  },
  {
   "cell_type": "markdown",
   "metadata": {},
   "source": [
    "# question 1"
   ]
  },
  {
   "cell_type": "markdown",
   "metadata": {},
   "source": [
    "Rolling two dice gives us 36 options.\n",
    "\n",
    "A = The chance for roey to roll a number that divides 3 is $ \\dfrac{12}{36}$\n",
    "\n",
    "B = The chance for roey to roll a number that dosen't divide 3 is $ \\dfrac{24}{36}$.\n",
    "\n",
    "P(A) = $\\dfrac{1}{3}$, Roey wins 6$.\n",
    "\n",
    "P(B) = $\\dfrac{2}{3}$, Roey loses 3$.\n",
    "\n",
    "So the expected value is :\n",
    "\n",
    "$(\\dfrac{1}{3} \\cdot 6 ) +(\\dfrac{2}{3} \\cdot (-3)) =0 $"
   ]
  },
  {
   "cell_type": "markdown",
   "metadata": {},
   "source": [
    "# question 2"
   ]
  },
  {
   "cell_type": "markdown",
   "metadata": {},
   "source": [
    "Playing marker mixup gives us 25 options.\n",
    "\n",
    "P(X=12) = The number of options for Alex to pick 2 markres that the sum of them is equel to 12 is - $\\dfrac{4}{25}$.\n",
    "\n",
    "P(X<12) = The number of options for Alex to pick 2 markres that the sum of them is less then 12 is -  $\\dfrac{15}{25}$.\n",
    "\n",
    "P(12<X)= The number of options for Alex to pick 2 markres that the sum of them is equel to 12 is -  $\\dfrac{6}{25}$.\n",
    "\n",
    "\n",
    "So the expected value is :\n",
    "\n",
    "$(\\dfrac{4}{25} \\cdot 0 ) +(\\dfrac{15}{25} \\cdot (-6)) +(\\dfrac{6}{25} \\cdot (5)) = -2.4 $ "
   ]
  },
  {
   "cell_type": "markdown",
   "metadata": {},
   "source": [
    "# question 3"
   ]
  },
  {
   "cell_type": "markdown",
   "metadata": {},
   "source": [
    "200 empolyes.\n",
    "\n",
    "Men empolyes are 40% so (P(men))=0.4 \n",
    "\n",
    "Women empolyes are 60% so (P(women))=0.6\n",
    "\n",
    "\n",
    "mean=$8\\cdot P(men)=8 \\cdot 0.4=3.2$\n",
    "\n",
    "std = $\\sqrt{mean \\cdot P(women) }  = \\sqrt{3.2\\cdot P(women) }= 1.386$\n",
    "\n"
   ]
  },
  {
   "cell_type": "markdown",
   "metadata": {},
   "source": [
    "# question 4"
   ]
  },
  {
   "cell_type": "markdown",
   "metadata": {},
   "source": [
    "mean is 26,000, std is 2,000.\n",
    "\n",
    "By the 68-95-99.7 rule\n",
    "\n",
    "$\\mu$ is the mean=26,000.\n",
    "\n",
    "$\\sigma$ is the std=2,000.\n",
    "\n",
    "z=$\\dfrac{X-\\mu}{\\sigma}$\n",
    "\n",
    "z in 26,000<X<30,000: $\\dfrac{26,000-26,000}{2,000}<\\dfrac{X-26,000}{2,000}<\\dfrac{30,000-26,000}{2,000}$\n",
    "\n",
    "= $0<\\dfrac{X-26,000}{2,000}<2,000$.\n",
    "\n",
    "\n",
    "so is:\n",
    "P(0<Z<2)=0.48=48%. (as 2 is $\\sigma$)"
   ]
  },
  {
   "cell_type": "markdown",
   "metadata": {},
   "source": [
    "# question 5"
   ]
  },
  {
   "cell_type": "markdown",
   "metadata": {},
   "source": [
    "the triangle area is :\n",
    "$\\dfrac{5\\cdot 0.4}{2} = 1$\n",
    "\n",
    "to find P(x>3) we calculate the triangle area for x>3 and divide that into the area we found:\n",
    "$\\dfrac{\\dfrac{2\\cdot 0.4}{2}}{1} = \\dfrac{2}{5}$"
   ]
  },
  {
   "cell_type": "markdown",
   "metadata": {},
   "source": [
    "# question 6\n"
   ]
  },
  {
   "cell_type": "markdown",
   "metadata": {},
   "source": [
    "Company has 500 employes\n",
    "\n",
    "60% have kids=300\n",
    "\n",
    "40% don't have kids=200\n",
    "\n",
    "to find the probability that exactly 3 of the 4 employes we select have kids.\n",
    "\n",
    "\n",
    "\n",
    "$ \\dfrac{4!}{3!} \\cdot (0.6)^3 \\cdot 0.4 = 0.3456$\n",
    "\n"
   ]
  },
  {
   "cell_type": "markdown",
   "metadata": {},
   "source": [
    "# question 7"
   ]
  },
  {
   "cell_type": "markdown",
   "metadata": {},
   "source": [
    "The expected value of x is :\n",
    "\n",
    "$((-10) \\cdot 0.1 ) +((-5) \\cdot 0.35) +( 0  \\cdot 0.1) + (10 \\cdot 0.1 ) +(5 \\cdot 0.35) = 0 $ "
   ]
  }
 ],
 "metadata": {
  "kernelspec": {
   "display_name": "Python 3",
   "language": "python",
   "name": "python3"
  },
  "language_info": {
   "codemirror_mode": {
    "name": "ipython",
    "version": 3
   },
   "file_extension": ".py",
   "mimetype": "text/x-python",
   "name": "python",
   "nbconvert_exporter": "python",
   "pygments_lexer": "ipython3",
   "version": "3.8.5"
  }
 },
 "nbformat": 4,
 "nbformat_minor": 4
}
